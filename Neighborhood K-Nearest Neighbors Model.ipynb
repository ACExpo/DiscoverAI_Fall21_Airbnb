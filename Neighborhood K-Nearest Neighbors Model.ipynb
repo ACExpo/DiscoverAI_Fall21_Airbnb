{
    "metadata": {
        "kernelspec": {
            "name": "python3",
            "display_name": "Python 3 (ipykernel)",
            "language": "python"
        }
    },
    "nbformat": 4,
    "nbformat_minor": 0,
    "cells": [
        {
            "attachments": {},
            "cell_type": "markdown",
            "metadata": {},
            "source": [
                "# **K-Nearest Neighbors** "
            ]
        },
        {
            "cell_type": "code",
            "execution_count": 35,
            "metadata": {},
            "outputs": [],
            "source": [
                "import numpy as np\n",
                "import pandas as pd"
            ]
        },
        {
            "cell_type": "code",
            "execution_count": 36,
            "metadata": {},
            "outputs": [],
            "source": [
                "df = pd.read_csv('AB_NYC_2019.csv')"
            ]
        },
        {
            "cell_type": "code",
            "execution_count": 37,
            "metadata": {},
            "outputs": [
                {
                    "data": {
                        "text/html": "\u003cdiv\u003e\n\u003cstyle scoped\u003e\n    .dataframe tbody tr th:only-of-type {\n        vertical-align: middle;\n    }\n\n    .dataframe tbody tr th {\n        vertical-align: top;\n    }\n\n    .dataframe thead th {\n        text-align: right;\n    }\n\u003c/style\u003e\n\u003ctable border=\"1\" class=\"dataframe\"\u003e\n  \u003cthead\u003e\n    \u003ctr style=\"text-align: right;\"\u003e\n      \u003cth\u003e\u003c/th\u003e\n      \u003cth\u003eid\u003c/th\u003e\n      \u003cth\u003ename\u003c/th\u003e\n      \u003cth\u003ehost_id\u003c/th\u003e\n      \u003cth\u003ehost_name\u003c/th\u003e\n      \u003cth\u003eneighbourhood_group\u003c/th\u003e\n      \u003cth\u003eneighbourhood\u003c/th\u003e\n      \u003cth\u003elatitude\u003c/th\u003e\n      \u003cth\u003elongitude\u003c/th\u003e\n      \u003cth\u003eroom_type\u003c/th\u003e\n      \u003cth\u003eprice\u003c/th\u003e\n      \u003cth\u003eminimum_nights\u003c/th\u003e\n      \u003cth\u003enumber_of_reviews\u003c/th\u003e\n      \u003cth\u003elast_review\u003c/th\u003e\n      \u003cth\u003ereviews_per_month\u003c/th\u003e\n      \u003cth\u003ecalculated_host_listings_count\u003c/th\u003e\n      \u003cth\u003eavailability_365\u003c/th\u003e\n    \u003c/tr\u003e\n  \u003c/thead\u003e\n  \u003ctbody\u003e\n    \u003ctr\u003e\n      \u003cth\u003e0\u003c/th\u003e\n      \u003ctd\u003e2539\u003c/td\u003e\n      \u003ctd\u003eClean \u0026amp; quiet apt home by the park\u003c/td\u003e\n      \u003ctd\u003e2787\u003c/td\u003e\n      \u003ctd\u003eJohn\u003c/td\u003e\n      \u003ctd\u003eBrooklyn\u003c/td\u003e\n      \u003ctd\u003eKensington\u003c/td\u003e\n      \u003ctd\u003e40.64749\u003c/td\u003e\n      \u003ctd\u003e-73.97237\u003c/td\u003e\n      \u003ctd\u003ePrivate room\u003c/td\u003e\n      \u003ctd\u003e149\u003c/td\u003e\n      \u003ctd\u003e1\u003c/td\u003e\n      \u003ctd\u003e9\u003c/td\u003e\n      \u003ctd\u003e10/19/2018\u003c/td\u003e\n      \u003ctd\u003e0.21\u003c/td\u003e\n      \u003ctd\u003e6\u003c/td\u003e\n      \u003ctd\u003e365\u003c/td\u003e\n    \u003c/tr\u003e\n    \u003ctr\u003e\n      \u003cth\u003e1\u003c/th\u003e\n      \u003ctd\u003e2595\u003c/td\u003e\n      \u003ctd\u003eSkylit Midtown Castle\u003c/td\u003e\n      \u003ctd\u003e2845\u003c/td\u003e\n      \u003ctd\u003eJennifer\u003c/td\u003e\n      \u003ctd\u003eManhattan\u003c/td\u003e\n      \u003ctd\u003eMidtown\u003c/td\u003e\n      \u003ctd\u003e40.75362\u003c/td\u003e\n      \u003ctd\u003e-73.98377\u003c/td\u003e\n      \u003ctd\u003eEntire home/apt\u003c/td\u003e\n      \u003ctd\u003e225\u003c/td\u003e\n      \u003ctd\u003e1\u003c/td\u003e\n      \u003ctd\u003e45\u003c/td\u003e\n      \u003ctd\u003e5/21/2019\u003c/td\u003e\n      \u003ctd\u003e0.38\u003c/td\u003e\n      \u003ctd\u003e2\u003c/td\u003e\n      \u003ctd\u003e355\u003c/td\u003e\n    \u003c/tr\u003e\n    \u003ctr\u003e\n      \u003cth\u003e2\u003c/th\u003e\n      \u003ctd\u003e3647\u003c/td\u003e\n      \u003ctd\u003eTHE VILLAGE OF HARLEM....NEW YORK !\u003c/td\u003e\n      \u003ctd\u003e4632\u003c/td\u003e\n      \u003ctd\u003eElisabeth\u003c/td\u003e\n      \u003ctd\u003eManhattan\u003c/td\u003e\n      \u003ctd\u003eHarlem\u003c/td\u003e\n      \u003ctd\u003e40.80902\u003c/td\u003e\n      \u003ctd\u003e-73.94190\u003c/td\u003e\n      \u003ctd\u003ePrivate room\u003c/td\u003e\n      \u003ctd\u003e150\u003c/td\u003e\n      \u003ctd\u003e3\u003c/td\u003e\n      \u003ctd\u003e0\u003c/td\u003e\n      \u003ctd\u003e5/22/2019\u003c/td\u003e\n      \u003ctd\u003e0.00\u003c/td\u003e\n      \u003ctd\u003e1\u003c/td\u003e\n      \u003ctd\u003e365\u003c/td\u003e\n    \u003c/tr\u003e\n    \u003ctr\u003e\n      \u003cth\u003e3\u003c/th\u003e\n      \u003ctd\u003e3831\u003c/td\u003e\n      \u003ctd\u003eCozy Entire Floor of Brownstone\u003c/td\u003e\n      \u003ctd\u003e4869\u003c/td\u003e\n      \u003ctd\u003eLisaRoxanne\u003c/td\u003e\n      \u003ctd\u003eBrooklyn\u003c/td\u003e\n      \u003ctd\u003eClinton Hill\u003c/td\u003e\n      \u003ctd\u003e40.68514\u003c/td\u003e\n      \u003ctd\u003e-73.95976\u003c/td\u003e\n      \u003ctd\u003eEntire home/apt\u003c/td\u003e\n      \u003ctd\u003e89\u003c/td\u003e\n      \u003ctd\u003e1\u003c/td\u003e\n      \u003ctd\u003e270\u003c/td\u003e\n      \u003ctd\u003e7/5/2019\u003c/td\u003e\n      \u003ctd\u003e4.64\u003c/td\u003e\n      \u003ctd\u003e1\u003c/td\u003e\n      \u003ctd\u003e194\u003c/td\u003e\n    \u003c/tr\u003e\n    \u003ctr\u003e\n      \u003cth\u003e4\u003c/th\u003e\n      \u003ctd\u003e5022\u003c/td\u003e\n      \u003ctd\u003eEntire Apt: Spacious Studio/Loft by central park\u003c/td\u003e\n      \u003ctd\u003e7192\u003c/td\u003e\n      \u003ctd\u003eLaura\u003c/td\u003e\n      \u003ctd\u003eManhattan\u003c/td\u003e\n      \u003ctd\u003eEast Harlem\u003c/td\u003e\n      \u003ctd\u003e40.79851\u003c/td\u003e\n      \u003ctd\u003e-73.94399\u003c/td\u003e\n      \u003ctd\u003eEntire home/apt\u003c/td\u003e\n      \u003ctd\u003e80\u003c/td\u003e\n      \u003ctd\u003e10\u003c/td\u003e\n      \u003ctd\u003e9\u003c/td\u003e\n      \u003ctd\u003e11/19/2018\u003c/td\u003e\n      \u003ctd\u003e0.10\u003c/td\u003e\n      \u003ctd\u003e1\u003c/td\u003e\n      \u003ctd\u003e0\u003c/td\u003e\n    \u003c/tr\u003e\n  \u003c/tbody\u003e\n\u003c/table\u003e\n\u003c/div\u003e",
                        "text/plain": "     id                                              name  host_id  \\\n0  2539                Clean \u0026 quiet apt home by the park     2787   \n1  2595                             Skylit Midtown Castle     2845   \n2  3647               THE VILLAGE OF HARLEM....NEW YORK !     4632   \n3  3831                   Cozy Entire Floor of Brownstone     4869   \n4  5022  Entire Apt: Spacious Studio/Loft by central park     7192   \n\n     host_name neighbourhood_group neighbourhood  latitude  longitude  \\\n0         John            Brooklyn    Kensington  40.64749  -73.97237   \n1     Jennifer           Manhattan       Midtown  40.75362  -73.98377   \n2    Elisabeth           Manhattan        Harlem  40.80902  -73.94190   \n3  LisaRoxanne            Brooklyn  Clinton Hill  40.68514  -73.95976   \n4        Laura           Manhattan   East Harlem  40.79851  -73.94399   \n\n         room_type  price  minimum_nights  number_of_reviews last_review  \\\n0     Private room    149               1                  9  10/19/2018   \n1  Entire home/apt    225               1                 45   5/21/2019   \n2     Private room    150               3                  0   5/22/2019   \n3  Entire home/apt     89               1                270    7/5/2019   \n4  Entire home/apt     80              10                  9  11/19/2018   \n\n   reviews_per_month  calculated_host_listings_count  availability_365  \n0               0.21                               6               365  \n1               0.38                               2               355  \n2               0.00                               1               365  \n3               4.64                               1               194  \n4               0.10                               1                 0  "
                    },
                    "execution_count": 37,
                    "metadata": {},
                    "output_type": "execute_result"
                }
            ],
            "source": [
                "df.head()"
            ]
        },
        {
            "cell_type": "code",
            "execution_count": 38,
            "metadata": {},
            "outputs": [
                {
                    "name": "stdout",
                    "output_type": "stream",
                    "text": "\u003cclass 'pandas.core.frame.DataFrame'\u003e\nRangeIndex: 48895 entries, 0 to 48894\nData columns (total 16 columns):\n #   Column                          Non-Null Count  Dtype  \n---  ------                          --------------  -----  \n 0   id                              48895 non-null  int64  \n 1   name                            48895 non-null  object \n 2   host_id                         48895 non-null  int64  \n 3   host_name                       48895 non-null  object \n 4   neighbourhood_group             48895 non-null  object \n 5   neighbourhood                   48895 non-null  object \n 6   latitude                        48895 non-null  float64\n 7   longitude                       48895 non-null  float64\n 8   room_type                       48895 non-null  object \n 9   price                           48895 non-null  int64  \n 10  minimum_nights                  48895 non-null  int64  \n 11  number_of_reviews               48895 non-null  int64  \n 12  last_review                     48895 non-null  object \n 13  reviews_per_month               48895 non-null  float64\n 14  calculated_host_listings_count  48895 non-null  int64  \n 15  availability_365                48895 non-null  int64  \ndtypes: float64(3), int64(7), object(6)\nmemory usage: 6.0+ MB\n"
                }
            ],
            "source": [
                "df.info()"
            ]
        },
        {
            "cell_type": "code",
            "execution_count": 39,
            "metadata": {},
            "outputs": [],
            "source": [
                "df = df.fillna(0)\n",
                "df = df.set_index('neighbourhood_group')"
            ]
        },
        {
            "cell_type": "code",
            "execution_count": 40,
            "metadata": {},
            "outputs": [
                {
                    "data": {
                        "text/html": "\u003cdiv\u003e\n\u003cstyle scoped\u003e\n    .dataframe tbody tr th:only-of-type {\n        vertical-align: middle;\n    }\n\n    .dataframe tbody tr th {\n        vertical-align: top;\n    }\n\n    .dataframe thead th {\n        text-align: right;\n    }\n\u003c/style\u003e\n\u003ctable border=\"1\" class=\"dataframe\"\u003e\n  \u003cthead\u003e\n    \u003ctr style=\"text-align: right;\"\u003e\n      \u003cth\u003e\u003c/th\u003e\n      \u003cth\u003eid\u003c/th\u003e\n      \u003cth\u003ename\u003c/th\u003e\n      \u003cth\u003ehost_id\u003c/th\u003e\n      \u003cth\u003ehost_name\u003c/th\u003e\n      \u003cth\u003eneighbourhood\u003c/th\u003e\n      \u003cth\u003elatitude\u003c/th\u003e\n      \u003cth\u003elongitude\u003c/th\u003e\n      \u003cth\u003eroom_type\u003c/th\u003e\n      \u003cth\u003eprice\u003c/th\u003e\n      \u003cth\u003eminimum_nights\u003c/th\u003e\n      \u003cth\u003enumber_of_reviews\u003c/th\u003e\n      \u003cth\u003elast_review\u003c/th\u003e\n      \u003cth\u003ereviews_per_month\u003c/th\u003e\n      \u003cth\u003ecalculated_host_listings_count\u003c/th\u003e\n      \u003cth\u003eavailability_365\u003c/th\u003e\n    \u003c/tr\u003e\n    \u003ctr\u003e\n      \u003cth\u003eneighbourhood_group\u003c/th\u003e\n      \u003cth\u003e\u003c/th\u003e\n      \u003cth\u003e\u003c/th\u003e\n      \u003cth\u003e\u003c/th\u003e\n      \u003cth\u003e\u003c/th\u003e\n      \u003cth\u003e\u003c/th\u003e\n      \u003cth\u003e\u003c/th\u003e\n      \u003cth\u003e\u003c/th\u003e\n      \u003cth\u003e\u003c/th\u003e\n      \u003cth\u003e\u003c/th\u003e\n      \u003cth\u003e\u003c/th\u003e\n      \u003cth\u003e\u003c/th\u003e\n      \u003cth\u003e\u003c/th\u003e\n      \u003cth\u003e\u003c/th\u003e\n      \u003cth\u003e\u003c/th\u003e\n      \u003cth\u003e\u003c/th\u003e\n    \u003c/tr\u003e\n  \u003c/thead\u003e\n  \u003ctbody\u003e\n    \u003ctr\u003e\n      \u003cth\u003eManhattan\u003c/th\u003e\n      \u003ctd\u003e36478343\u003c/td\u003e\n      \u003ctd\u003eWelcome all as family\u003c/td\u003e\n      \u003ctd\u003e274273284\u003c/td\u003e\n      \u003ctd\u003eAnastasia\u003c/td\u003e\n      \u003ctd\u003eEast Harlem\u003c/td\u003e\n      \u003ctd\u003e40.78749\u003c/td\u003e\n      \u003ctd\u003e-73.94749\u003c/td\u003e\n      \u003ctd\u003ePrivate room\u003c/td\u003e\n      \u003ctd\u003e140\u003c/td\u003e\n      \u003ctd\u003e1\u003c/td\u003e\n      \u003ctd\u003e0\u003c/td\u003e\n      \u003ctd\u003e5/21/2019\u003c/td\u003e\n      \u003ctd\u003e0.0\u003c/td\u003e\n      \u003ctd\u003e1\u003c/td\u003e\n      \u003ctd\u003e180\u003c/td\u003e\n    \u003c/tr\u003e\n    \u003ctr\u003e\n      \u003cth\u003eManhattan\u003c/th\u003e\n      \u003ctd\u003e36478357\u003c/td\u003e\n      \u003ctd\u003eCozy, Air-Conditioned Private Bedroom in Harlem\u003c/td\u003e\n      \u003ctd\u003e177932088\u003c/td\u003e\n      \u003ctd\u003eJoseph\u003c/td\u003e\n      \u003ctd\u003eHarlem\u003c/td\u003e\n      \u003ctd\u003e40.80953\u003c/td\u003e\n      \u003ctd\u003e-73.95410\u003c/td\u003e\n      \u003ctd\u003ePrivate room\u003c/td\u003e\n      \u003ctd\u003e60\u003c/td\u003e\n      \u003ctd\u003e1\u003c/td\u003e\n      \u003ctd\u003e0\u003c/td\u003e\n      \u003ctd\u003e5/21/2019\u003c/td\u003e\n      \u003ctd\u003e0.0\u003c/td\u003e\n      \u003ctd\u003e1\u003c/td\u003e\n      \u003ctd\u003e26\u003c/td\u003e\n    \u003c/tr\u003e\n    \u003ctr\u003e\n      \u003cth\u003eBrooklyn\u003c/th\u003e\n      \u003ctd\u003e36479230\u003c/td\u003e\n      \u003ctd\u003eStudio sized room with beautiful light\u003c/td\u003e\n      \u003ctd\u003e65767720\u003c/td\u003e\n      \u003ctd\u003eMelanie\u003c/td\u003e\n      \u003ctd\u003eBushwick\u003c/td\u003e\n      \u003ctd\u003e40.70418\u003c/td\u003e\n      \u003ctd\u003e-73.91471\u003c/td\u003e\n      \u003ctd\u003ePrivate room\u003c/td\u003e\n      \u003ctd\u003e42\u003c/td\u003e\n      \u003ctd\u003e7\u003c/td\u003e\n      \u003ctd\u003e0\u003c/td\u003e\n      \u003ctd\u003e5/21/2019\u003c/td\u003e\n      \u003ctd\u003e0.0\u003c/td\u003e\n      \u003ctd\u003e1\u003c/td\u003e\n      \u003ctd\u003e16\u003c/td\u003e\n    \u003c/tr\u003e\n    \u003ctr\u003e\n      \u003cth\u003eQueens\u003c/th\u003e\n      \u003ctd\u003e36479723\u003c/td\u003e\n      \u003ctd\u003eRoom for rest\u003c/td\u003e\n      \u003ctd\u003e41326856\u003c/td\u003e\n      \u003ctd\u003eJeerathinan\u003c/td\u003e\n      \u003ctd\u003eElmhurst\u003c/td\u003e\n      \u003ctd\u003e40.74477\u003c/td\u003e\n      \u003ctd\u003e-73.87727\u003c/td\u003e\n      \u003ctd\u003ePrivate room\u003c/td\u003e\n      \u003ctd\u003e45\u003c/td\u003e\n      \u003ctd\u003e1\u003c/td\u003e\n      \u003ctd\u003e0\u003c/td\u003e\n      \u003ctd\u003e5/21/2019\u003c/td\u003e\n      \u003ctd\u003e0.0\u003c/td\u003e\n      \u003ctd\u003e5\u003c/td\u003e\n      \u003ctd\u003e172\u003c/td\u003e\n    \u003c/tr\u003e\n    \u003ctr\u003e\n      \u003cth\u003eBrooklyn\u003c/th\u003e\n      \u003ctd\u003e36480292\u003c/td\u003e\n      \u003ctd\u003eGorgeous 1.5 Bdr with a private yard- Williams...\u003c/td\u003e\n      \u003ctd\u003e540335\u003c/td\u003e\n      \u003ctd\u003eLee\u003c/td\u003e\n      \u003ctd\u003eWilliamsburg\u003c/td\u003e\n      \u003ctd\u003e40.71728\u003c/td\u003e\n      \u003ctd\u003e-73.94394\u003c/td\u003e\n      \u003ctd\u003eEntire home/apt\u003c/td\u003e\n      \u003ctd\u003e120\u003c/td\u003e\n      \u003ctd\u003e20\u003c/td\u003e\n      \u003ctd\u003e0\u003c/td\u003e\n      \u003ctd\u003e5/21/2019\u003c/td\u003e\n      \u003ctd\u003e0.0\u003c/td\u003e\n      \u003ctd\u003e1\u003c/td\u003e\n      \u003ctd\u003e22\u003c/td\u003e\n    \u003c/tr\u003e\n    \u003ctr\u003e\n      \u003cth\u003eBrooklyn\u003c/th\u003e\n      \u003ctd\u003e36481315\u003c/td\u003e\n      \u003ctd\u003eThe Raccoon Artist Studio in Williamsburg New ...\u003c/td\u003e\n      \u003ctd\u003e208514239\u003c/td\u003e\n      \u003ctd\u003eMelki\u003c/td\u003e\n      \u003ctd\u003eWilliamsburg\u003c/td\u003e\n      \u003ctd\u003e40.71232\u003c/td\u003e\n      \u003ctd\u003e-73.94220\u003c/td\u003e\n      \u003ctd\u003eEntire home/apt\u003c/td\u003e\n      \u003ctd\u003e120\u003c/td\u003e\n      \u003ctd\u003e1\u003c/td\u003e\n      \u003ctd\u003e0\u003c/td\u003e\n      \u003ctd\u003e5/21/2019\u003c/td\u003e\n      \u003ctd\u003e0.0\u003c/td\u003e\n      \u003ctd\u003e3\u003c/td\u003e\n      \u003ctd\u003e365\u003c/td\u003e\n    \u003c/tr\u003e\n    \u003ctr\u003e\n      \u003cth\u003eBrooklyn\u003c/th\u003e\n      \u003ctd\u003e36481615\u003c/td\u003e\n      \u003ctd\u003ePeaceful space in Greenpoint, BK\u003c/td\u003e\n      \u003ctd\u003e274298453\u003c/td\u003e\n      \u003ctd\u003eAdrien\u003c/td\u003e\n      \u003ctd\u003eGreenpoint\u003c/td\u003e\n      \u003ctd\u003e40.72585\u003c/td\u003e\n      \u003ctd\u003e-73.94001\u003c/td\u003e\n      \u003ctd\u003ePrivate room\u003c/td\u003e\n      \u003ctd\u003e54\u003c/td\u003e\n      \u003ctd\u003e6\u003c/td\u003e\n      \u003ctd\u003e0\u003c/td\u003e\n      \u003ctd\u003e5/21/2019\u003c/td\u003e\n      \u003ctd\u003e0.0\u003c/td\u003e\n      \u003ctd\u003e1\u003c/td\u003e\n      \u003ctd\u003e15\u003c/td\u003e\n    \u003c/tr\u003e\n    \u003ctr\u003e\n      \u003cth\u003eBrooklyn\u003c/th\u003e\n      \u003ctd\u003e36482231\u003c/td\u003e\n      \u003ctd\u003eBushwick _ Myrtle-Wyckoff\u003c/td\u003e\n      \u003ctd\u003e66058896\u003c/td\u003e\n      \u003ctd\u003eLuisa\u003c/td\u003e\n      \u003ctd\u003eBushwick\u003c/td\u003e\n      \u003ctd\u003e40.69652\u003c/td\u003e\n      \u003ctd\u003e-73.91079\u003c/td\u003e\n      \u003ctd\u003ePrivate room\u003c/td\u003e\n      \u003ctd\u003e40\u003c/td\u003e\n      \u003ctd\u003e20\u003c/td\u003e\n      \u003ctd\u003e0\u003c/td\u003e\n      \u003ctd\u003e5/21/2019\u003c/td\u003e\n      \u003ctd\u003e0.0\u003c/td\u003e\n      \u003ctd\u003e1\u003c/td\u003e\n      \u003ctd\u003e31\u003c/td\u003e\n    \u003c/tr\u003e\n    \u003ctr\u003e\n      \u003cth\u003eManhattan\u003c/th\u003e\n      \u003ctd\u003e36482416\u003c/td\u003e\n      \u003ctd\u003eSunny Bedroom NYC! Walking to Central Park!!\u003c/td\u003e\n      \u003ctd\u003e131529729\u003c/td\u003e\n      \u003ctd\u003eKendall\u003c/td\u003e\n      \u003ctd\u003eEast Harlem\u003c/td\u003e\n      \u003ctd\u003e40.79755\u003c/td\u003e\n      \u003ctd\u003e-73.93614\u003c/td\u003e\n      \u003ctd\u003ePrivate room\u003c/td\u003e\n      \u003ctd\u003e75\u003c/td\u003e\n      \u003ctd\u003e2\u003c/td\u003e\n      \u003ctd\u003e0\u003c/td\u003e\n      \u003ctd\u003e5/21/2019\u003c/td\u003e\n      \u003ctd\u003e0.0\u003c/td\u003e\n      \u003ctd\u003e2\u003c/td\u003e\n      \u003ctd\u003e364\u003c/td\u003e\n    \u003c/tr\u003e\n    \u003ctr\u003e\n      \u003cth\u003eBrooklyn\u003c/th\u003e\n      \u003ctd\u003e36482783\u003c/td\u003e\n      \u003ctd\u003eBrooklyn Oasis in the heart of Williamsburg\u003c/td\u003e\n      \u003ctd\u003e274307600\u003c/td\u003e\n      \u003ctd\u003eJonathan\u003c/td\u003e\n      \u003ctd\u003eWilliamsburg\u003c/td\u003e\n      \u003ctd\u003e40.71790\u003c/td\u003e\n      \u003ctd\u003e-73.96238\u003c/td\u003e\n      \u003ctd\u003ePrivate room\u003c/td\u003e\n      \u003ctd\u003e190\u003c/td\u003e\n      \u003ctd\u003e7\u003c/td\u003e\n      \u003ctd\u003e0\u003c/td\u003e\n      \u003ctd\u003e5/21/2019\u003c/td\u003e\n      \u003ctd\u003e0.0\u003c/td\u003e\n      \u003ctd\u003e1\u003c/td\u003e\n      \u003ctd\u003e341\u003c/td\u003e\n    \u003c/tr\u003e\n    \u003ctr\u003e\n      \u003cth\u003eManhattan\u003c/th\u003e\n      \u003ctd\u003e36482809\u003c/td\u003e\n      \u003ctd\u003eStunning Bedroom NYC! Walking to Central Park!!\u003c/td\u003e\n      \u003ctd\u003e131529729\u003c/td\u003e\n      \u003ctd\u003eKendall\u003c/td\u003e\n      \u003ctd\u003eEast Harlem\u003c/td\u003e\n      \u003ctd\u003e40.79633\u003c/td\u003e\n      \u003ctd\u003e-73.93605\u003c/td\u003e\n      \u003ctd\u003ePrivate room\u003c/td\u003e\n      \u003ctd\u003e75\u003c/td\u003e\n      \u003ctd\u003e2\u003c/td\u003e\n      \u003ctd\u003e0\u003c/td\u003e\n      \u003ctd\u003e5/21/2019\u003c/td\u003e\n      \u003ctd\u003e0.0\u003c/td\u003e\n      \u003ctd\u003e2\u003c/td\u003e\n      \u003ctd\u003e353\u003c/td\u003e\n    \u003c/tr\u003e\n    \u003ctr\u003e\n      \u003cth\u003eManhattan\u003c/th\u003e\n      \u003ctd\u003e36483010\u003c/td\u003e\n      \u003ctd\u003eComfy 1 Bedroom in Midtown East\u003c/td\u003e\n      \u003ctd\u003e274311461\u003c/td\u003e\n      \u003ctd\u003eScott\u003c/td\u003e\n      \u003ctd\u003eMidtown\u003c/td\u003e\n      \u003ctd\u003e40.75561\u003c/td\u003e\n      \u003ctd\u003e-73.96723\u003c/td\u003e\n      \u003ctd\u003eEntire home/apt\u003c/td\u003e\n      \u003ctd\u003e200\u003c/td\u003e\n      \u003ctd\u003e6\u003c/td\u003e\n      \u003ctd\u003e0\u003c/td\u003e\n      \u003ctd\u003e5/21/2019\u003c/td\u003e\n      \u003ctd\u003e0.0\u003c/td\u003e\n      \u003ctd\u003e1\u003c/td\u003e\n      \u003ctd\u003e176\u003c/td\u003e\n    \u003c/tr\u003e\n    \u003ctr\u003e\n      \u003cth\u003eBrooklyn\u003c/th\u003e\n      \u003ctd\u003e36483152\u003c/td\u003e\n      \u003ctd\u003eGarden Jewel Apartment in Williamsburg New York\u003c/td\u003e\n      \u003ctd\u003e208514239\u003c/td\u003e\n      \u003ctd\u003eMelki\u003c/td\u003e\n      \u003ctd\u003eWilliamsburg\u003c/td\u003e\n      \u003ctd\u003e40.71232\u003c/td\u003e\n      \u003ctd\u003e-73.94220\u003c/td\u003e\n      \u003ctd\u003eEntire home/apt\u003c/td\u003e\n      \u003ctd\u003e170\u003c/td\u003e\n      \u003ctd\u003e1\u003c/td\u003e\n      \u003ctd\u003e0\u003c/td\u003e\n      \u003ctd\u003e5/21/2019\u003c/td\u003e\n      \u003ctd\u003e0.0\u003c/td\u003e\n      \u003ctd\u003e3\u003c/td\u003e\n      \u003ctd\u003e365\u003c/td\u003e\n    \u003c/tr\u003e\n    \u003ctr\u003e\n      \u003cth\u003eManhattan\u003c/th\u003e\n      \u003ctd\u003e36484087\u003c/td\u003e\n      \u003ctd\u003eSpacious Room w/ Private Rooftop, Central loca...\u003c/td\u003e\n      \u003ctd\u003e274321313\u003c/td\u003e\n      \u003ctd\u003eKat\u003c/td\u003e\n      \u003ctd\u003eHell's Kitchen\u003c/td\u003e\n      \u003ctd\u003e40.76392\u003c/td\u003e\n      \u003ctd\u003e-73.99183\u003c/td\u003e\n      \u003ctd\u003ePrivate room\u003c/td\u003e\n      \u003ctd\u003e125\u003c/td\u003e\n      \u003ctd\u003e4\u003c/td\u003e\n      \u003ctd\u003e0\u003c/td\u003e\n      \u003ctd\u003e5/21/2019\u003c/td\u003e\n      \u003ctd\u003e0.0\u003c/td\u003e\n      \u003ctd\u003e1\u003c/td\u003e\n      \u003ctd\u003e31\u003c/td\u003e\n    \u003c/tr\u003e\n    \u003ctr\u003e\n      \u003cth\u003eQueens\u003c/th\u003e\n      \u003ctd\u003e36484363\u003c/td\u003e\n      \u003ctd\u003eQUIT PRIVATE HOUSE\u003c/td\u003e\n      \u003ctd\u003e107716952\u003c/td\u003e\n      \u003ctd\u003eMichael\u003c/td\u003e\n      \u003ctd\u003eJamaica\u003c/td\u003e\n      \u003ctd\u003e40.69137\u003c/td\u003e\n      \u003ctd\u003e-73.80844\u003c/td\u003e\n      \u003ctd\u003ePrivate room\u003c/td\u003e\n      \u003ctd\u003e65\u003c/td\u003e\n      \u003ctd\u003e1\u003c/td\u003e\n      \u003ctd\u003e0\u003c/td\u003e\n      \u003ctd\u003e5/21/2019\u003c/td\u003e\n      \u003ctd\u003e0.0\u003c/td\u003e\n      \u003ctd\u003e2\u003c/td\u003e\n      \u003ctd\u003e163\u003c/td\u003e\n    \u003c/tr\u003e\n    \u003ctr\u003e\n      \u003cth\u003eBrooklyn\u003c/th\u003e\n      \u003ctd\u003e36484665\u003c/td\u003e\n      \u003ctd\u003eCharming one bedroom - newly renovated rowhouse\u003c/td\u003e\n      \u003ctd\u003e8232441\u003c/td\u003e\n      \u003ctd\u003eSabrina\u003c/td\u003e\n      \u003ctd\u003eBedford-Stuyvesant\u003c/td\u003e\n      \u003ctd\u003e40.67853\u003c/td\u003e\n      \u003ctd\u003e-73.94995\u003c/td\u003e\n      \u003ctd\u003ePrivate room\u003c/td\u003e\n      \u003ctd\u003e70\u003c/td\u003e\n      \u003ctd\u003e2\u003c/td\u003e\n      \u003ctd\u003e0\u003c/td\u003e\n      \u003ctd\u003e5/21/2019\u003c/td\u003e\n      \u003ctd\u003e0.0\u003c/td\u003e\n      \u003ctd\u003e2\u003c/td\u003e\n      \u003ctd\u003e9\u003c/td\u003e\n    \u003c/tr\u003e\n    \u003ctr\u003e\n      \u003cth\u003eBrooklyn\u003c/th\u003e\n      \u003ctd\u003e36485057\u003c/td\u003e\n      \u003ctd\u003eAffordable room in Bushwick/East Williamsburg\u003c/td\u003e\n      \u003ctd\u003e6570630\u003c/td\u003e\n      \u003ctd\u003eMarisol\u003c/td\u003e\n      \u003ctd\u003eBushwick\u003c/td\u003e\n      \u003ctd\u003e40.70184\u003c/td\u003e\n      \u003ctd\u003e-73.93317\u003c/td\u003e\n      \u003ctd\u003ePrivate room\u003c/td\u003e\n      \u003ctd\u003e40\u003c/td\u003e\n      \u003ctd\u003e4\u003c/td\u003e\n      \u003ctd\u003e0\u003c/td\u003e\n      \u003ctd\u003e5/21/2019\u003c/td\u003e\n      \u003ctd\u003e0.0\u003c/td\u003e\n      \u003ctd\u003e2\u003c/td\u003e\n      \u003ctd\u003e36\u003c/td\u003e\n    \u003c/tr\u003e\n    \u003ctr\u003e\n      \u003cth\u003eManhattan\u003c/th\u003e\n      \u003ctd\u003e36485431\u003c/td\u003e\n      \u003ctd\u003eSunny Studio at Historical Neighborhood\u003c/td\u003e\n      \u003ctd\u003e23492952\u003c/td\u003e\n      \u003ctd\u003eIlgar \u0026amp; Aysel\u003c/td\u003e\n      \u003ctd\u003eHarlem\u003c/td\u003e\n      \u003ctd\u003e40.81475\u003c/td\u003e\n      \u003ctd\u003e-73.94867\u003c/td\u003e\n      \u003ctd\u003eEntire home/apt\u003c/td\u003e\n      \u003ctd\u003e115\u003c/td\u003e\n      \u003ctd\u003e10\u003c/td\u003e\n      \u003ctd\u003e0\u003c/td\u003e\n      \u003ctd\u003e5/21/2019\u003c/td\u003e\n      \u003ctd\u003e0.0\u003c/td\u003e\n      \u003ctd\u003e1\u003c/td\u003e\n      \u003ctd\u003e27\u003c/td\u003e\n    \u003c/tr\u003e\n    \u003ctr\u003e\n      \u003cth\u003eManhattan\u003c/th\u003e\n      \u003ctd\u003e36485609\u003c/td\u003e\n      \u003ctd\u003e43rd St. Time Square-cozy single bed\u003c/td\u003e\n      \u003ctd\u003e30985759\u003c/td\u003e\n      \u003ctd\u003eTaz\u003c/td\u003e\n      \u003ctd\u003eHell's Kitchen\u003c/td\u003e\n      \u003ctd\u003e40.75751\u003c/td\u003e\n      \u003ctd\u003e-73.99112\u003c/td\u003e\n      \u003ctd\u003eShared room\u003c/td\u003e\n      \u003ctd\u003e55\u003c/td\u003e\n      \u003ctd\u003e1\u003c/td\u003e\n      \u003ctd\u003e0\u003c/td\u003e\n      \u003ctd\u003e5/21/2019\u003c/td\u003e\n      \u003ctd\u003e0.0\u003c/td\u003e\n      \u003ctd\u003e6\u003c/td\u003e\n      \u003ctd\u003e2\u003c/td\u003e\n    \u003c/tr\u003e\n    \u003ctr\u003e\n      \u003cth\u003eManhattan\u003c/th\u003e\n      \u003ctd\u003e36487245\u003c/td\u003e\n      \u003ctd\u003eTrendy duplex in the very heart of Hell's Kitchen\u003c/td\u003e\n      \u003ctd\u003e68119814\u003c/td\u003e\n      \u003ctd\u003eChristophe\u003c/td\u003e\n      \u003ctd\u003eHell's Kitchen\u003c/td\u003e\n      \u003ctd\u003e40.76404\u003c/td\u003e\n      \u003ctd\u003e-73.98933\u003c/td\u003e\n      \u003ctd\u003ePrivate room\u003c/td\u003e\n      \u003ctd\u003e90\u003c/td\u003e\n      \u003ctd\u003e7\u003c/td\u003e\n      \u003ctd\u003e0\u003c/td\u003e\n      \u003ctd\u003e5/21/2019\u003c/td\u003e\n      \u003ctd\u003e0.0\u003c/td\u003e\n      \u003ctd\u003e1\u003c/td\u003e\n      \u003ctd\u003e23\u003c/td\u003e\n    \u003c/tr\u003e\n  \u003c/tbody\u003e\n\u003c/table\u003e\n\u003c/div\u003e",
                        "text/plain": "                           id  \\\nneighbourhood_group             \nManhattan            36478343   \nManhattan            36478357   \nBrooklyn             36479230   \nQueens               36479723   \nBrooklyn             36480292   \nBrooklyn             36481315   \nBrooklyn             36481615   \nBrooklyn             36482231   \nManhattan            36482416   \nBrooklyn             36482783   \nManhattan            36482809   \nManhattan            36483010   \nBrooklyn             36483152   \nManhattan            36484087   \nQueens               36484363   \nBrooklyn             36484665   \nBrooklyn             36485057   \nManhattan            36485431   \nManhattan            36485609   \nManhattan            36487245   \n\n                                                                  name  \\\nneighbourhood_group                                                      \nManhattan                                        Welcome all as family   \nManhattan              Cozy, Air-Conditioned Private Bedroom in Harlem   \nBrooklyn                        Studio sized room with beautiful light   \nQueens                                                   Room for rest   \nBrooklyn             Gorgeous 1.5 Bdr with a private yard- Williams...   \nBrooklyn             The Raccoon Artist Studio in Williamsburg New ...   \nBrooklyn                              Peaceful space in Greenpoint, BK   \nBrooklyn                                     Bushwick _ Myrtle-Wyckoff   \nManhattan                 Sunny Bedroom NYC! Walking to Central Park!!   \nBrooklyn                   Brooklyn Oasis in the heart of Williamsburg   \nManhattan              Stunning Bedroom NYC! Walking to Central Park!!   \nManhattan                              Comfy 1 Bedroom in Midtown East   \nBrooklyn               Garden Jewel Apartment in Williamsburg New York   \nManhattan            Spacious Room w/ Private Rooftop, Central loca...   \nQueens                                              QUIT PRIVATE HOUSE   \nBrooklyn               Charming one bedroom - newly renovated rowhouse   \nBrooklyn                 Affordable room in Bushwick/East Williamsburg   \nManhattan                      Sunny Studio at Historical Neighborhood   \nManhattan                         43rd St. Time Square-cozy single bed   \nManhattan            Trendy duplex in the very heart of Hell's Kitchen   \n\n                       host_id      host_name       neighbourhood  latitude  \\\nneighbourhood_group                                                           \nManhattan            274273284      Anastasia         East Harlem  40.78749   \nManhattan            177932088         Joseph              Harlem  40.80953   \nBrooklyn              65767720        Melanie            Bushwick  40.70418   \nQueens                41326856    Jeerathinan            Elmhurst  40.74477   \nBrooklyn                540335            Lee        Williamsburg  40.71728   \nBrooklyn             208514239          Melki        Williamsburg  40.71232   \nBrooklyn             274298453         Adrien          Greenpoint  40.72585   \nBrooklyn              66058896          Luisa            Bushwick  40.69652   \nManhattan            131529729        Kendall         East Harlem  40.79755   \nBrooklyn             274307600       Jonathan        Williamsburg  40.71790   \nManhattan            131529729        Kendall         East Harlem  40.79633   \nManhattan            274311461          Scott             Midtown  40.75561   \nBrooklyn             208514239          Melki        Williamsburg  40.71232   \nManhattan            274321313            Kat      Hell's Kitchen  40.76392   \nQueens               107716952        Michael             Jamaica  40.69137   \nBrooklyn               8232441        Sabrina  Bedford-Stuyvesant  40.67853   \nBrooklyn               6570630        Marisol            Bushwick  40.70184   \nManhattan             23492952  Ilgar \u0026 Aysel              Harlem  40.81475   \nManhattan             30985759            Taz      Hell's Kitchen  40.75751   \nManhattan             68119814     Christophe      Hell's Kitchen  40.76404   \n\n                     longitude        room_type  price  minimum_nights  \\\nneighbourhood_group                                                      \nManhattan            -73.94749     Private room    140               1   \nManhattan            -73.95410     Private room     60               1   \nBrooklyn             -73.91471     Private room     42               7   \nQueens               -73.87727     Private room     45               1   \nBrooklyn             -73.94394  Entire home/apt    120              20   \nBrooklyn             -73.94220  Entire home/apt    120               1   \nBrooklyn             -73.94001     Private room     54               6   \nBrooklyn             -73.91079     Private room     40              20   \nManhattan            -73.93614     Private room     75               2   \nBrooklyn             -73.96238     Private room    190               7   \nManhattan            -73.93605     Private room     75               2   \nManhattan            -73.96723  Entire home/apt    200               6   \nBrooklyn             -73.94220  Entire home/apt    170               1   \nManhattan            -73.99183     Private room    125               4   \nQueens               -73.80844     Private room     65               1   \nBrooklyn             -73.94995     Private room     70               2   \nBrooklyn             -73.93317     Private room     40               4   \nManhattan            -73.94867  Entire home/apt    115              10   \nManhattan            -73.99112      Shared room     55               1   \nManhattan            -73.98933     Private room     90               7   \n\n                     number_of_reviews last_review  reviews_per_month  \\\nneighbourhood_group                                                     \nManhattan                            0   5/21/2019                0.0   \nManhattan                            0   5/21/2019                0.0   \nBrooklyn                             0   5/21/2019                0.0   \nQueens                               0   5/21/2019                0.0   \nBrooklyn                             0   5/21/2019                0.0   \nBrooklyn                             0   5/21/2019                0.0   \nBrooklyn                             0   5/21/2019                0.0   \nBrooklyn                             0   5/21/2019                0.0   \nManhattan                            0   5/21/2019                0.0   \nBrooklyn                             0   5/21/2019                0.0   \nManhattan                            0   5/21/2019                0.0   \nManhattan                            0   5/21/2019                0.0   \nBrooklyn                             0   5/21/2019                0.0   \nManhattan                            0   5/21/2019                0.0   \nQueens                               0   5/21/2019                0.0   \nBrooklyn                             0   5/21/2019                0.0   \nBrooklyn                             0   5/21/2019                0.0   \nManhattan                            0   5/21/2019                0.0   \nManhattan                            0   5/21/2019                0.0   \nManhattan                            0   5/21/2019                0.0   \n\n                     calculated_host_listings_count  availability_365  \nneighbourhood_group                                                    \nManhattan                                         1               180  \nManhattan                                         1                26  \nBrooklyn                                          1                16  \nQueens                                            5               172  \nBrooklyn                                          1                22  \nBrooklyn                                          3               365  \nBrooklyn                                          1                15  \nBrooklyn                                          1                31  \nManhattan                                         2               364  \nBrooklyn                                          1               341  \nManhattan                                         2               353  \nManhattan                                         1               176  \nBrooklyn                                          3               365  \nManhattan                                         1                31  \nQueens                                            2               163  \nBrooklyn                                          2                 9  \nBrooklyn                                          2                36  \nManhattan                                         1                27  \nManhattan                                         6                 2  \nManhattan                                         1                23  "
                    },
                    "execution_count": 40,
                    "metadata": {},
                    "output_type": "execute_result"
                }
            ],
            "source": [
                "df.tail(20)"
            ]
        },
        {
            "cell_type": "code",
            "execution_count": 41,
            "metadata": {},
            "outputs": [],
            "source": [
                "df_B = pd.DataFrame(df.loc[\"Brooklyn\", [\"price\",\"number_of_reviews\", \"reviews_per_month\", \"minimum_nights\", \"availability_365\" ]])\n",
                "df_M = pd.DataFrame(df.loc[\"Manhattan\", [\"price\",\"number_of_reviews\", \"reviews_per_month\", \"minimum_nights\", \"availability_365\"]])\n",
                "df_Q = pd.DataFrame(df.loc[\"Queens\", [\"price\",\"number_of_reviews\", \"reviews_per_month\", \"minimum_nights\", \"availability_365\"]])\n",
                "df_X = pd.DataFrame(df.loc[\"Bronx\", [\"price\",\"number_of_reviews\", \"reviews_per_month\", \"minimum_nights\", \"availability_365\"]])\n",
                "df_S = pd.DataFrame(df.loc[\"Staten Island\", [\"price\",\"number_of_reviews\", \"reviews_per_month\", \"minimum_nights\", \"availability_365\"]])"
            ]
        },
        {
            "attachments": {},
            "cell_type": "markdown",
            "metadata": {},
            "source": [
                "# **Manhattan**"
            ]
        },
        {
            "cell_type": "code",
            "execution_count": 42,
            "metadata": {},
            "outputs": [],
            "source": [
                "from sklearn.neighbors import KNeighborsRegressor\n",
                "from sklearn.metrics import mean_squared_error\n",
                "\n",
                "\n",
                "def knn_train_test(X, target, df_M):\n",
                "    \n",
                "    np.random.seed(1)\n",
                "        \n",
                "    # Randomize order of rows in data frame.\n",
                "    shuffled_index = np.random.permutation(df_M.index)\n",
                "    rand_df_M = df.reindex(shuffled_index)\n",
                "\n",
                "    # Divide number of rows in half and round.\n",
                "    train_rows = int(len(rand_df_M) / 2)\n",
                "    train_df_M = rand_df_M.iloc[0:train_rows]\n",
                "    test_df_M = rand_df_M.iloc[train_rows:]\n",
                "    \n",
                "    # Fit a knn model and make predictions\n",
                "    knn = KNeighborsRegressor()\n",
                "    knn.fit(train_df_M[[X]], train_df_M[target])\n",
                "    predictions = knn.predict(test_df_M[[X]])\n",
                "    \n",
                "    # Calculate the mse and rmse\n",
                "    mse = mean_squared_error(test_df_M[target], predictions)\n",
                "    rmse = np.sqrt(mse)\n",
                "    \n",
                "    return rmse"
            ]
        },
        {
            "cell_type": "code",
            "execution_count": 43,
            "metadata": {},
            "outputs": [
                {
                    "ename": "NameError",
                    "evalue": "name 'X' is not defined",
                    "output_type": "error",
                    "traceback": [
                        "\u001b[0;31m---------------------------------------------------------------------------\u001b[0m",
                        "\u001b[0;31mNameError\u001b[0m                                 Traceback (most recent call last)",
                        "\u001b[0;32m/tmp/ipykernel_173/3847158997.py\u001b[0m in \u001b[0;36m\u003cmodule\u003e\u001b[0;34m\u001b[0m\n\u001b[1;32m      1\u001b[0m \u001b[0muni_rmse\u001b[0m \u001b[0;34m=\u001b[0m \u001b[0;34m{\u001b[0m\u001b[0;34m}\u001b[0m\u001b[0;34m\u001b[0m\u001b[0;34m\u001b[0m\u001b[0m\n\u001b[1;32m      2\u001b[0m \u001b[0;34m\u001b[0m\u001b[0m\n\u001b[0;32m----\u003e 3\u001b[0;31m \u001b[0;32mfor\u001b[0m \u001b[0mi\u001b[0m \u001b[0;32min\u001b[0m \u001b[0mX\u001b[0m\u001b[0;34m:\u001b[0m\u001b[0;34m\u001b[0m\u001b[0;34m\u001b[0m\u001b[0m\n\u001b[0m\u001b[1;32m      4\u001b[0m     \u001b[0;32mif\u001b[0m \u001b[0mi\u001b[0m \u001b[0;34m!=\u001b[0m \u001b[0;34m'price'\u001b[0m\u001b[0;34m:\u001b[0m\u001b[0;34m\u001b[0m\u001b[0;34m\u001b[0m\u001b[0m\n\u001b[1;32m      5\u001b[0m         \u001b[0muni_rmse\u001b[0m\u001b[0;34m[\u001b[0m\u001b[0mi\u001b[0m\u001b[0;34m]\u001b[0m \u001b[0;34m=\u001b[0m \u001b[0mknn_train_test\u001b[0m\u001b[0;34m(\u001b[0m\u001b[0mi\u001b[0m\u001b[0;34m,\u001b[0m \u001b[0;34m'price'\u001b[0m\u001b[0;34m,\u001b[0m \u001b[0mX\u001b[0m\u001b[0;34m)\u001b[0m\u001b[0;34m\u001b[0m\u001b[0;34m\u001b[0m\u001b[0m\n",
                        "\u001b[0;31mNameError\u001b[0m: name 'X' is not defined"
                    ]
                }
            ],
            "source": [
                "uni_rmse = {}\n",
                "\n",
                "for i in X:\n",
                "    if i != 'price':\n",
                "        uni_rmse[i] = knn_train_test(i, 'price', X)\n",
                "        \n",
                "# Create a Series object from the dictionary so we can easily view the results, sort, etc.\n",
                "\n",
                "uni_rmse = pd.Series(uni_rmse)\n",
                "uni_rmse.sort_values()"
            ]
        },
        {
            "cell_type": "code",
            "execution_count": 73,
            "metadata": {},
            "outputs": [],
            "source": [
                "def knn_train_test(X, target, df_M):\n",
                "    \n",
                "    np.random.seed(1)\n",
                "        \n",
                "    # Randomize order of rows in data frame.\n",
                "    shuffled_index = np.random.permutation(df_M.index)\n",
                "    rand_df_M = df_M.reindex(shuffled_index)\n",
                "\n",
                "    # Divide number of rows in half and round.\n",
                "    train_rows = int(len(rand_df_M) / 2)\n",
                "    train_df_M = rand_df_M.iloc[0:train_rows]\n",
                "    test_df_M = rand_df_M.iloc[train_rows:]\n",
                "    \n",
                "    # Fit a knn model and make predictions\n",
                "    knn = KNeighborsRegressor()\n",
                "    knn.fit(train_df_M[X], train_df_M[target])\n",
                "    predictions = knn.predict(test_df_M[X])\n",
                "    \n",
                "    # Calculate the mse and rmse\n",
                "    mse = mean_squared_error(test_df_M[target], predictions)\n",
                "    rmse = np.sqrt(mse)\n",
                "    \n",
                "    return rmse\n",
                "    "
            ]
        },
        {
            "cell_type": "code",
            "execution_count": 74,
            "metadata": {},
            "outputs": [
                {
                    "name": "stderr",
                    "output_type": "stream",
                    "text": "/usr/lib/python3.9/site-packages/sklearn/base.py:441: UserWarning: X does not have valid feature names, but KNeighborsRegressor was fitted with feature names\n  warnings.warn(\n/usr/lib/python3.9/site-packages/sklearn/base.py:441: UserWarning: X does not have valid feature names, but KNeighborsRegressor was fitted with feature names\n  warnings.warn(\n/usr/lib/python3.9/site-packages/sklearn/base.py:441: UserWarning: X does not have valid feature names, but KNeighborsRegressor was fitted with feature names\n  warnings.warn(\n"
                },
                {
                    "data": {
                        "text/plain": "{'two values': 326.23723606080796,\n 'three values': 332.0027757947884,\n 'four values': 332.0027757947884}"
                    },
                    "execution_count": 74,
                    "metadata": {},
                    "output_type": "execute_result"
                }
            ],
            "source": [
                "k_rmse_multi_results = {}\n",
                "\n",
                "\n",
                "two_values = ['reviews_per_month', 'minimum_nights']\n",
                "rmse_val = knn_train_test(two_values, 'price', df_M)\n",
                "k_rmse_multi_results[\"two values\"] = rmse_val\n",
                "\n",
                "three_values = ['reviews_per_month', 'minimum_nights', 'availability_365']\n",
                "rmse_val = knn_train_test(three_values, 'price', df_M)\n",
                "k_rmse_multi_results[\"three values\"] = rmse_val\n",
                "\n",
                "four_values = ['reviews_per_month', 'minimum_nights', 'availability_365', 'number_of_reviews']\n",
                "rmse_val = knn_train_test(three_values, 'price', df_M)\n",
                "k_rmse_multi_results[\"four values\"] = rmse_val\n",
                "\n",
                "k_rmse_multi_results"
            ]
        },
        {
            "attachments": {},
            "cell_type": "markdown",
            "metadata": {},
            "source": [
                "**Brooklyn**"
            ]
        },
        {
            "cell_type": "code",
            "execution_count": 62,
            "metadata": {},
            "outputs": [],
            "source": [
                "from sklearn.neighbors import KNeighborsRegressor\n",
                "from sklearn.metrics import mean_squared_error\n",
                "\n",
                "\n",
                "def knn_train_test(X, target, df_B):\n",
                "    \n",
                "    np.random.seed(1)\n",
                "        \n",
                "    # Randomize order of rows in data frame.\n",
                "    shuffled_index = np.random.permutation(df_B.index)\n",
                "    rand_df_B = df.reindex(shuffled_index)\n",
                "\n",
                "    # Divide number of rows in half and round.\n",
                "    train_rows = int(len(rand_df_B) / 2)\n",
                "    train_df_B = rand_df_B.iloc[0:train_rows]\n",
                "    test_df_B = rand_df_B.iloc[train_rows:]\n",
                "    \n",
                "    # Fit a knn model and make predictions\n",
                "    knn = KNeighborsRegressor()\n",
                "    knn.fit(train_df_B[[X]], train_df_B[target])\n",
                "    predictions = knn.predict(test_df_B[[X]])\n",
                "    \n",
                "    # Calculate the mse and rmse\n",
                "    mse = mean_squared_error(test_df_B[target], predictions)\n",
                "    rmse = np.sqrt(mse)\n",
                "    \n",
                "    return rmse"
            ]
        },
        {
            "cell_type": "code",
            "execution_count": 63,
            "metadata": {},
            "outputs": [
                {
                    "name": "stderr",
                    "output_type": "stream",
                    "text": "/usr/lib/python3.9/site-packages/sklearn/base.py:441: UserWarning: X does not have valid feature names, but KNeighborsRegressor was fitted with feature names\n  warnings.warn(\n/usr/lib/python3.9/site-packages/sklearn/base.py:441: UserWarning: X does not have valid feature names, but KNeighborsRegressor was fitted with feature names\n  warnings.warn(\n/usr/lib/python3.9/site-packages/sklearn/base.py:441: UserWarning: X does not have valid feature names, but KNeighborsRegressor was fitted with feature names\n  warnings.warn(\n/usr/lib/python3.9/site-packages/sklearn/base.py:441: UserWarning: X does not have valid feature names, but KNeighborsRegressor was fitted with feature names\n  warnings.warn(\n"
                },
                {
                    "data": {
                        "text/plain": "reviews_per_month    254.406857\nminimum_nights       268.789641\navailability_365     313.782051\nnumber_of_reviews    695.737448\ndtype: float64"
                    },
                    "execution_count": 63,
                    "metadata": {},
                    "output_type": "execute_result"
                }
            ],
            "source": [
                "uni_rmse = {}\n",
                "\n",
                "for i in X:\n",
                "    if i != 'price':\n",
                "        uni_rmse[i] = knn_train_test(i, 'price', X)\n",
                "        \n",
                "# Create a Series object from the dictionary so we can easily view the results, sort, etc.\n",
                "\n",
                "uni_rmse = pd.Series(uni_rmse)\n",
                "uni_rmse.sort_values()"
            ]
        },
        {
            "cell_type": "code",
            "execution_count": 64,
            "metadata": {},
            "outputs": [],
            "source": [
                "def knn_train_test(X, target, df_B):\n",
                "    \n",
                "    np.random.seed(1)\n",
                "        \n",
                "    # Randomize order of rows in data frame.\n",
                "    shuffled_index = np.random.permutation(df_B.index)\n",
                "    rand_df_B = df_B.reindex(shuffled_index)\n",
                "\n",
                "    # Divide number of rows in half and round.\n",
                "    train_rows = int(len(rand_df_B) / 2)\n",
                "    train_df_B = rand_df_B.iloc[0:train_rows]\n",
                "    test_df_B = rand_df_B.iloc[train_rows:]\n",
                "    \n",
                "    # Fit a knn model and make predictions\n",
                "    knn = KNeighborsRegressor()\n",
                "    knn.fit(train_df_B[X], train_df_B[target])\n",
                "    predictions = knn.predict(test_df_B[X])\n",
                "    \n",
                "    # Calculate the mse and rmse\n",
                "    mse = mean_squared_error(test_df_B[target], predictions)\n",
                "    rmse = np.sqrt(mse)\n",
                "    \n",
                "    return rmse\n",
                ""
            ]
        },
        {
            "cell_type": "code",
            "execution_count": 65,
            "metadata": {},
            "outputs": [
                {
                    "name": "stderr",
                    "output_type": "stream",
                    "text": "/usr/lib/python3.9/site-packages/sklearn/base.py:441: UserWarning: X does not have valid feature names, but KNeighborsRegressor was fitted with feature names\n  warnings.warn(\n/usr/lib/python3.9/site-packages/sklearn/base.py:441: UserWarning: X does not have valid feature names, but KNeighborsRegressor was fitted with feature names\n  warnings.warn(\n/usr/lib/python3.9/site-packages/sklearn/base.py:441: UserWarning: X does not have valid feature names, but KNeighborsRegressor was fitted with feature names\n  warnings.warn(\n"
                },
                {
                    "data": {
                        "text/plain": "{'two values': 216.28225670236063,\n 'three values': 184.39574359153653,\n 'four values': 184.39574359153653}"
                    },
                    "execution_count": 65,
                    "metadata": {},
                    "output_type": "execute_result"
                }
            ],
            "source": [
                "k_rmse_multi_results = {}\n",
                "\n",
                "\n",
                "two_values = ['reviews_per_month', 'minimum_nights']\n",
                "rmse_val = knn_train_test(two_values, 'price', df_B)\n",
                "k_rmse_multi_results[\"two values\"] = rmse_val\n",
                "\n",
                "three_values = ['reviews_per_month', 'minimum_nights', 'availability_365']\n",
                "rmse_val = knn_train_test(three_values, 'price', df_B)\n",
                "k_rmse_multi_results[\"three values\"] = rmse_val\n",
                "\n",
                "four_values = ['reviews_per_month', 'minimum_nights', 'availability_365', 'number_of_reviews']\n",
                "rmse_val = knn_train_test(three_values, 'price', df_B)\n",
                "k_rmse_multi_results[\"four values\"] = rmse_val\n",
                "\n",
                "k_rmse_multi_results"
            ]
        },
        {
            "attachments": {},
            "cell_type": "markdown",
            "metadata": {},
            "source": [
                "# **Queens**"
            ]
        },
        {
            "cell_type": "code",
            "execution_count": 47,
            "metadata": {},
            "outputs": [],
            "source": [
                "from sklearn.neighbors import KNeighborsRegressor\n",
                "from sklearn.metrics import mean_squared_error\n",
                "\n",
                "\n",
                "def knn_train_test(X, target, df_Q):\n",
                "    \n",
                "    np.random.seed(1)\n",
                "        \n",
                "    # Randomize order of rows in data frame.\n",
                "    shuffled_index = np.random.permutation(df_Q.index)\n",
                "    rand_df_Q = df.reindex(shuffled_index)\n",
                "\n",
                "    # Divide number of rows in half and round.\n",
                "    train_rows = int(len(rand_df_Q) / 2)\n",
                "    train_df_Q = rand_df_Q.iloc[0:train_rows]\n",
                "    test_df_Q = rand_df_Q.iloc[train_rows:]\n",
                "    \n",
                "    # Fit a knn model and make predictions\n",
                "    knn = KNeighborsRegressor()\n",
                "    knn.fit(train_df_Q[[X]], train_df_Q[target])\n",
                "    predictions = knn.predict(test_df_Q[[X]])\n",
                "    \n",
                "    # Calculate the mse and rmse\n",
                "    mse = mean_squared_error(test_df_Q[target], predictions)\n",
                "    rmse = np.sqrt(mse)\n",
                "    \n",
                "    return rmse\n",
                ""
            ]
        },
        {
            "cell_type": "code",
            "execution_count": 48,
            "metadata": {},
            "outputs": [
                {
                    "ename": "NameError",
                    "evalue": "name 'X' is not defined",
                    "output_type": "error",
                    "traceback": [
                        "\u001b[0;31m---------------------------------------------------------------------------\u001b[0m",
                        "\u001b[0;31mNameError\u001b[0m                                 Traceback (most recent call last)",
                        "\u001b[0;32m/tmp/ipykernel_173/3847158997.py\u001b[0m in \u001b[0;36m\u003cmodule\u003e\u001b[0;34m\u001b[0m\n\u001b[1;32m      1\u001b[0m \u001b[0muni_rmse\u001b[0m \u001b[0;34m=\u001b[0m \u001b[0;34m{\u001b[0m\u001b[0;34m}\u001b[0m\u001b[0;34m\u001b[0m\u001b[0;34m\u001b[0m\u001b[0m\n\u001b[1;32m      2\u001b[0m \u001b[0;34m\u001b[0m\u001b[0m\n\u001b[0;32m----\u003e 3\u001b[0;31m \u001b[0;32mfor\u001b[0m \u001b[0mi\u001b[0m \u001b[0;32min\u001b[0m \u001b[0mX\u001b[0m\u001b[0;34m:\u001b[0m\u001b[0;34m\u001b[0m\u001b[0;34m\u001b[0m\u001b[0m\n\u001b[0m\u001b[1;32m      4\u001b[0m     \u001b[0;32mif\u001b[0m \u001b[0mi\u001b[0m \u001b[0;34m!=\u001b[0m \u001b[0;34m'price'\u001b[0m\u001b[0;34m:\u001b[0m\u001b[0;34m\u001b[0m\u001b[0;34m\u001b[0m\u001b[0m\n\u001b[1;32m      5\u001b[0m         \u001b[0muni_rmse\u001b[0m\u001b[0;34m[\u001b[0m\u001b[0mi\u001b[0m\u001b[0;34m]\u001b[0m \u001b[0;34m=\u001b[0m \u001b[0mknn_train_test\u001b[0m\u001b[0;34m(\u001b[0m\u001b[0mi\u001b[0m\u001b[0;34m,\u001b[0m \u001b[0;34m'price'\u001b[0m\u001b[0;34m,\u001b[0m \u001b[0mX\u001b[0m\u001b[0;34m)\u001b[0m\u001b[0;34m\u001b[0m\u001b[0;34m\u001b[0m\u001b[0m\n",
                        "\u001b[0;31mNameError\u001b[0m: name 'X' is not defined"
                    ]
                }
            ],
            "source": [
                "uni_rmse = {}\n",
                "\n",
                "for i in X:\n",
                "    if i != 'price':\n",
                "        uni_rmse[i] = knn_train_test(i, 'price', X)\n",
                "        \n",
                "# Create a Series object from the dictionary so we can easily view the results, sort, etc.\n",
                "\n",
                "uni_rmse = pd.Series(uni_rmse)\n",
                "uni_rmse.sort_values()"
            ]
        },
        {
            "cell_type": "code",
            "execution_count": 49,
            "metadata": {},
            "outputs": [],
            "source": [
                "\n",
                "def knn_train_test(X, target, df_Q):\n",
                "    \n",
                "    np.random.seed(1)\n",
                "        \n",
                "    # Randomize order of rows in data frame.\n",
                "    shuffled_index = np.random.permutation(df_Q.index)\n",
                "    rand_df_Q = df_Q.reindex(shuffled_index)\n",
                "\n",
                "    # Divide number of rows in half and round.\n",
                "    train_rows = int(len(rand_df_Q) / 2)\n",
                "    train_df_Q = rand_df_Q.iloc[0:train_rows]\n",
                "    test_df_Q = rand_df_Q.iloc[train_rows:]\n",
                "    \n",
                "    # Fit a knn model and make predictions\n",
                "    knn = KNeighborsRegressor()\n",
                "    knn.fit(train_df_Q[X], train_df_Q[target])\n",
                "    predictions = knn.predict(test_df_Q[X])\n",
                "    \n",
                "    # Calculate the mse and rmse\n",
                "    mse = mean_squared_error(test_df_Q[target], predictions)\n",
                "    rmse = np.sqrt(mse)\n",
                "    \n",
                "    return rmse\n",
                ""
            ]
        },
        {
            "cell_type": "code",
            "execution_count": 50,
            "metadata": {},
            "outputs": [
                {
                    "name": "stderr",
                    "output_type": "stream",
                    "text": "/usr/lib/python3.9/site-packages/sklearn/base.py:441: UserWarning: X does not have valid feature names, but KNeighborsRegressor was fitted with feature names\n  warnings.warn(\n/usr/lib/python3.9/site-packages/sklearn/base.py:441: UserWarning: X does not have valid feature names, but KNeighborsRegressor was fitted with feature names\n  warnings.warn(\n/usr/lib/python3.9/site-packages/sklearn/base.py:441: UserWarning: X does not have valid feature names, but KNeighborsRegressor was fitted with feature names\n  warnings.warn(\n"
                },
                {
                    "data": {
                        "text/plain": "{'two values': 120.06368635940541,\n 'three values': 106.3330629120917,\n 'four values': 106.3330629120917}"
                    },
                    "execution_count": 50,
                    "metadata": {},
                    "output_type": "execute_result"
                }
            ],
            "source": [
                "k_rmse_multi_results = {}\n",
                "\n",
                "\n",
                "two_values = ['reviews_per_month', 'minimum_nights']\n",
                "rmse_val = knn_train_test(two_values, 'price', df_Q)\n",
                "k_rmse_multi_results[\"two values\"] = rmse_val\n",
                "\n",
                "three_values = ['reviews_per_month', 'minimum_nights', 'availability_365']\n",
                "rmse_val = knn_train_test(three_values, 'price', df_Q)\n",
                "k_rmse_multi_results[\"three values\"] = rmse_val\n",
                "\n",
                "four_values = ['reviews_per_month', 'minimum_nights', 'availability_365', 'number_of_reviews']\n",
                "rmse_val = knn_train_test(three_values, 'price', df_Q)\n",
                "k_rmse_multi_results[\"four values\"] = rmse_val\n",
                "\n",
                "k_rmse_multi_results"
            ]
        },
        {
            "attachments": {},
            "cell_type": "markdown",
            "metadata": {},
            "source": [
                "# **Bronx**"
            ]
        },
        {
            "cell_type": "code",
            "execution_count": 51,
            "metadata": {},
            "outputs": [],
            "source": [
                "from sklearn.neighbors import KNeighborsRegressor\n",
                "from sklearn.metrics import mean_squared_error\n",
                "\n",
                "\n",
                "def knn_train_test(X, target, df_X):\n",
                "    \n",
                "    np.random.seed(1)\n",
                "        \n",
                "    # Randomize order of rows in data frame.\n",
                "    shuffled_index = np.random.permutation(df_X.index)\n",
                "    rand_df_X = df.reindex(shuffled_index)\n",
                "\n",
                "    # Divide number of rows in half and round.\n",
                "    train_rows = int(len(rand_df_X) / 2)\n",
                "    train_df_X = rand_df_X.iloc[0:train_rows]\n",
                "    test_df_X = rand_df_X.iloc[train_rows:]\n",
                "    \n",
                "    # Fit a knn model and make predictions\n",
                "    knn = KNeighborsRegressor()\n",
                "    knn.fit(train_df_X[[X]], train_df_X[target])\n",
                "    predictions = knn.predict(test_df_X[[X]])\n",
                "    \n",
                "    # Calculate the mse and rmse\n",
                "    mse = mean_squared_error(test_df_X[target], predictions)\n",
                "    rmse = np.sqrt(mse)\n",
                "    \n",
                "    return rmse\n",
                ""
            ]
        },
        {
            "cell_type": "code",
            "execution_count": 53,
            "metadata": {},
            "outputs": [
                {
                    "ename": "NameError",
                    "evalue": "name 'X' is not defined",
                    "output_type": "error",
                    "traceback": [
                        "\u001b[0;31m---------------------------------------------------------------------------\u001b[0m",
                        "\u001b[0;31mNameError\u001b[0m                                 Traceback (most recent call last)",
                        "\u001b[0;32m/tmp/ipykernel_173/3847158997.py\u001b[0m in \u001b[0;36m\u003cmodule\u003e\u001b[0;34m\u001b[0m\n\u001b[1;32m      1\u001b[0m \u001b[0muni_rmse\u001b[0m \u001b[0;34m=\u001b[0m \u001b[0;34m{\u001b[0m\u001b[0;34m}\u001b[0m\u001b[0;34m\u001b[0m\u001b[0;34m\u001b[0m\u001b[0m\n\u001b[1;32m      2\u001b[0m \u001b[0;34m\u001b[0m\u001b[0m\n\u001b[0;32m----\u003e 3\u001b[0;31m \u001b[0;32mfor\u001b[0m \u001b[0mi\u001b[0m \u001b[0;32min\u001b[0m \u001b[0mX\u001b[0m\u001b[0;34m:\u001b[0m\u001b[0;34m\u001b[0m\u001b[0;34m\u001b[0m\u001b[0m\n\u001b[0m\u001b[1;32m      4\u001b[0m     \u001b[0;32mif\u001b[0m \u001b[0mi\u001b[0m \u001b[0;34m!=\u001b[0m \u001b[0;34m'price'\u001b[0m\u001b[0;34m:\u001b[0m\u001b[0;34m\u001b[0m\u001b[0;34m\u001b[0m\u001b[0m\n\u001b[1;32m      5\u001b[0m         \u001b[0muni_rmse\u001b[0m\u001b[0;34m[\u001b[0m\u001b[0mi\u001b[0m\u001b[0;34m]\u001b[0m \u001b[0;34m=\u001b[0m \u001b[0mknn_train_test\u001b[0m\u001b[0;34m(\u001b[0m\u001b[0mi\u001b[0m\u001b[0;34m,\u001b[0m \u001b[0;34m'price'\u001b[0m\u001b[0;34m,\u001b[0m \u001b[0mX\u001b[0m\u001b[0;34m)\u001b[0m\u001b[0;34m\u001b[0m\u001b[0;34m\u001b[0m\u001b[0m\n",
                        "\u001b[0;31mNameError\u001b[0m: name 'X' is not defined"
                    ]
                }
            ],
            "source": [
                "uni_rmse = {}\n",
                "\n",
                "for i in X:\n",
                "    if i != 'price':\n",
                "        uni_rmse[i] = knn_train_test(i, 'price', X)\n",
                "        \n",
                "# Create a Series object from the dictionary so we can easily view the results, sort, etc.\n",
                "\n",
                "uni_rmse = pd.Series(uni_rmse)\n",
                "uni_rmse.sort_values()"
            ]
        },
        {
            "cell_type": "code",
            "execution_count": 54,
            "metadata": {},
            "outputs": [],
            "source": [
                "def knn_train_test(X, target, df_X):\n",
                "    \n",
                "    np.random.seed(1)\n",
                "        \n",
                "    # Randomize order of rows in data frame.\n",
                "    shuffled_index = np.random.permutation(df_X.index)\n",
                "    rand_df_X = df_X.reindex(shuffled_index)\n",
                "\n",
                "    # Divide number of rows in half and round.\n",
                "    train_rows = int(len(rand_df_X) / 2)\n",
                "    train_df_X = rand_df_X.iloc[0:train_rows]\n",
                "    test_df_X = rand_df_X.iloc[train_rows:]\n",
                "    \n",
                "    # Fit a knn model and make predictions\n",
                "    knn = KNeighborsRegressor()\n",
                "    knn.fit(train_df_X[X], train_df_X[target])\n",
                "    predictions = knn.predict(test_df_X[X])\n",
                "    \n",
                "    # Calculate the mse and rmse\n",
                "    mse = mean_squared_error(test_df_X[target], predictions)\n",
                "    rmse = np.sqrt(mse)\n",
                "    \n",
                "    return rmse"
            ]
        },
        {
            "cell_type": "code",
            "execution_count": 55,
            "metadata": {},
            "outputs": [
                {
                    "name": "stderr",
                    "output_type": "stream",
                    "text": "/usr/lib/python3.9/site-packages/sklearn/base.py:441: UserWarning: X does not have valid feature names, but KNeighborsRegressor was fitted with feature names\n  warnings.warn(\n/usr/lib/python3.9/site-packages/sklearn/base.py:441: UserWarning: X does not have valid feature names, but KNeighborsRegressor was fitted with feature names\n  warnings.warn(\n/usr/lib/python3.9/site-packages/sklearn/base.py:441: UserWarning: X does not have valid feature names, but KNeighborsRegressor was fitted with feature names\n  warnings.warn(\n"
                },
                {
                    "data": {
                        "text/plain": "{'two values': 147.42358025313325,\n 'three values': 134.57341773881186,\n 'four values': 134.57341773881186}"
                    },
                    "execution_count": 55,
                    "metadata": {},
                    "output_type": "execute_result"
                }
            ],
            "source": [
                "k_rmse_multi_results = {}\n",
                "\n",
                "\n",
                "two_values = ['reviews_per_month', 'minimum_nights']\n",
                "rmse_val = knn_train_test(two_values, 'price', df_X)\n",
                "k_rmse_multi_results[\"two values\"] = rmse_val\n",
                "\n",
                "three_values = ['reviews_per_month', 'minimum_nights', 'availability_365']\n",
                "rmse_val = knn_train_test(three_values, 'price', df_X)\n",
                "k_rmse_multi_results[\"three values\"] = rmse_val\n",
                "\n",
                "four_values = ['reviews_per_month', 'minimum_nights', 'availability_365', 'number_of_reviews']\n",
                "rmse_val = knn_train_test(three_values, 'price', df_X)\n",
                "k_rmse_multi_results[\"four values\"] = rmse_val\n",
                "\n",
                "k_rmse_multi_results\n",
                ""
            ]
        },
        {
            "attachments": {},
            "cell_type": "markdown",
            "metadata": {},
            "source": [
                "# **Staten Island**"
            ]
        },
        {
            "cell_type": "code",
            "execution_count": 56,
            "metadata": {},
            "outputs": [],
            "source": [
                "from sklearn.neighbors import KNeighborsRegressor\n",
                "from sklearn.metrics import mean_squared_error\n",
                "\n",
                "\n",
                "def knn_train_test(S, target, df_S):\n",
                "    \n",
                "    np.random.seed(1)\n",
                "        \n",
                "    # Randomize order of rows in data frame.\n",
                "    shuffled_index = np.random.permutation(df_S.index)\n",
                "    rand_df_S = df.reindex(shuffled_index)\n",
                "\n",
                "    # Divide number of rows in half and round.\n",
                "    train_rows = int(len(rand_df_S) / 2)\n",
                "    train_df_S = rand_df_S.iloc[0:train_rows]\n",
                "    test_df_S = rand_df_S.iloc[train_rows:]\n",
                "    \n",
                "    # Fit a knn model and make predictions\n",
                "    knn = KNeighborsRegressor()\n",
                "    knn.fit(train_df_S[[X]], train_df_S[target])\n",
                "    predictions = knn.predict(test_df_S[[X]])\n",
                "    \n",
                "    # Calculate the mse and rmse\n",
                "    mse = mean_squared_error(test_df_S[target], predictions)\n",
                "    rmse = np.sqrt(mse)\n",
                "    \n",
                "    return rmse"
            ]
        },
        {
            "cell_type": "code",
            "execution_count": 57,
            "metadata": {},
            "outputs": [
                {
                    "ename": "NameError",
                    "evalue": "name 'X' is not defined",
                    "output_type": "error",
                    "traceback": [
                        "\u001b[0;31m---------------------------------------------------------------------------\u001b[0m",
                        "\u001b[0;31mNameError\u001b[0m                                 Traceback (most recent call last)",
                        "\u001b[0;32m/tmp/ipykernel_173/3847158997.py\u001b[0m in \u001b[0;36m\u003cmodule\u003e\u001b[0;34m\u001b[0m\n\u001b[1;32m      1\u001b[0m \u001b[0muni_rmse\u001b[0m \u001b[0;34m=\u001b[0m \u001b[0;34m{\u001b[0m\u001b[0;34m}\u001b[0m\u001b[0;34m\u001b[0m\u001b[0;34m\u001b[0m\u001b[0m\n\u001b[1;32m      2\u001b[0m \u001b[0;34m\u001b[0m\u001b[0m\n\u001b[0;32m----\u003e 3\u001b[0;31m \u001b[0;32mfor\u001b[0m \u001b[0mi\u001b[0m \u001b[0;32min\u001b[0m \u001b[0mX\u001b[0m\u001b[0;34m:\u001b[0m\u001b[0;34m\u001b[0m\u001b[0;34m\u001b[0m\u001b[0m\n\u001b[0m\u001b[1;32m      4\u001b[0m     \u001b[0;32mif\u001b[0m \u001b[0mi\u001b[0m \u001b[0;34m!=\u001b[0m \u001b[0;34m'price'\u001b[0m\u001b[0;34m:\u001b[0m\u001b[0;34m\u001b[0m\u001b[0;34m\u001b[0m\u001b[0m\n\u001b[1;32m      5\u001b[0m         \u001b[0muni_rmse\u001b[0m\u001b[0;34m[\u001b[0m\u001b[0mi\u001b[0m\u001b[0;34m]\u001b[0m \u001b[0;34m=\u001b[0m \u001b[0mknn_train_test\u001b[0m\u001b[0;34m(\u001b[0m\u001b[0mi\u001b[0m\u001b[0;34m,\u001b[0m \u001b[0;34m'price'\u001b[0m\u001b[0;34m,\u001b[0m \u001b[0mX\u001b[0m\u001b[0;34m)\u001b[0m\u001b[0;34m\u001b[0m\u001b[0;34m\u001b[0m\u001b[0m\n",
                        "\u001b[0;31mNameError\u001b[0m: name 'X' is not defined"
                    ]
                }
            ],
            "source": [
                "uni_rmse = {}\n",
                "\n",
                "for i in X:\n",
                "    if i != 'price':\n",
                "        uni_rmse[i] = knn_train_test(i, 'price', X)\n",
                "        \n",
                "# Create a Series object from the dictionary so we can easily view the results, sort, etc.\n",
                "\n",
                "uni_rmse = pd.Series(uni_rmse)\n",
                "uni_rmse.sort_values()"
            ]
        },
        {
            "cell_type": "code",
            "execution_count": 58,
            "metadata": {},
            "outputs": [],
            "source": [
                "def knn_train_test(X, target, df_S):\n",
                "    \n",
                "    np.random.seed(1)\n",
                "        \n",
                "    # Randomize order of rows in data frame.\n",
                "    shuffled_index = np.random.permutation(df_S.index)\n",
                "    rand_df_S = df_S.reindex(shuffled_index)\n",
                "\n",
                "    # Divide number of rows in half and round.\n",
                "    train_rows = int(len(rand_df_S) / 2)\n",
                "    train_df_S = rand_df_S.iloc[0:train_rows]\n",
                "    test_df_S = rand_df_S.iloc[train_rows:]\n",
                "    \n",
                "    # Fit a knn model and make predictions\n",
                "    knn = KNeighborsRegressor()\n",
                "    knn.fit(train_df_S[X], train_df_S[target])\n",
                "    predictions = knn.predict(test_df_S[X])\n",
                "    \n",
                "    # Calculate the mse and rmse\n",
                "    mse = mean_squared_error(test_df_S[target], predictions)\n",
                "    rmse = np.sqrt(mse)\n",
                "    \n",
                "    return rmse"
            ]
        },
        {
            "cell_type": "code",
            "execution_count": 59,
            "metadata": {},
            "outputs": [
                {
                    "name": "stderr",
                    "output_type": "stream",
                    "text": "/usr/lib/python3.9/site-packages/sklearn/base.py:441: UserWarning: X does not have valid feature names, but KNeighborsRegressor was fitted with feature names\n  warnings.warn(\n/usr/lib/python3.9/site-packages/sklearn/base.py:441: UserWarning: X does not have valid feature names, but KNeighborsRegressor was fitted with feature names\n  warnings.warn(\n/usr/lib/python3.9/site-packages/sklearn/base.py:441: UserWarning: X does not have valid feature names, but KNeighborsRegressor was fitted with feature names\n  warnings.warn(\n"
                },
                {
                    "data": {
                        "text/plain": "{'two values': 109.21399980776592,\n 'three values': 200.40537420612048,\n 'four values': 200.40537420612048}"
                    },
                    "execution_count": 59,
                    "metadata": {},
                    "output_type": "execute_result"
                }
            ],
            "source": [
                "k_rmse_multi_results = {}\n",
                "\n",
                "\n",
                "two_values = ['reviews_per_month', 'minimum_nights']\n",
                "rmse_val = knn_train_test(two_values, 'price', df_S)\n",
                "k_rmse_multi_results[\"two values\"] = rmse_val\n",
                "\n",
                "three_values = ['reviews_per_month', 'minimum_nights', 'availability_365']\n",
                "rmse_val = knn_train_test(three_values, 'price', df_S)\n",
                "k_rmse_multi_results[\"three values\"] = rmse_val\n",
                "\n",
                "four_values = ['reviews_per_month', 'minimum_nights', 'availability_365', 'number_of_reviews']\n",
                "rmse_val = knn_train_test(three_values, 'price', df_S)\n",
                "k_rmse_multi_results[\"four values\"] = rmse_val\n",
                "\n",
                "k_rmse_multi_results\n",
                ""
            ]
        },
        {
            "cell_type": "code",
            "execution_count": 0,
            "metadata": {},
            "outputs": [],
            "source": [
                ""
            ]
        }
    ]
}
