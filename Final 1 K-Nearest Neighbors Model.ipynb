{
    "metadata": {
        "kernelspec": {
            "name": "python3",
            "display_name": "Python 3 (ipykernel)",
            "language": "python"
        }
    },
    "nbformat": 4,
    "nbformat_minor": 0,
    "cells": [
        {
            "attachments": {},
            "cell_type": "markdown",
            "metadata": {},
            "source": [
                "# **K-Nearest Neighbors** "
            ]
        },
        {
            "cell_type": "code",
            "execution_count": 1,
            "metadata": {},
            "outputs": [],
            "source": [
                "import numpy as np\n",
                "import pandas as pd"
            ]
        },
        {
            "cell_type": "code",
            "execution_count": 2,
            "metadata": {},
            "outputs": [],
            "source": [
                "df = pd.read_csv('AB_NYC_2019.csv')"
            ]
        },
        {
            "cell_type": "code",
            "execution_count": 3,
            "metadata": {},
            "outputs": [
                {
                    "data": {
                        "text/html": "\u003cdiv\u003e\n\u003cstyle scoped\u003e\n    .dataframe tbody tr th:only-of-type {\n        vertical-align: middle;\n    }\n\n    .dataframe tbody tr th {\n        vertical-align: top;\n    }\n\n    .dataframe thead th {\n        text-align: right;\n    }\n\u003c/style\u003e\n\u003ctable border=\"1\" class=\"dataframe\"\u003e\n  \u003cthead\u003e\n    \u003ctr style=\"text-align: right;\"\u003e\n      \u003cth\u003e\u003c/th\u003e\n      \u003cth\u003eid\u003c/th\u003e\n      \u003cth\u003ename\u003c/th\u003e\n      \u003cth\u003ehost_id\u003c/th\u003e\n      \u003cth\u003ehost_name\u003c/th\u003e\n      \u003cth\u003eneighbourhood_group\u003c/th\u003e\n      \u003cth\u003eneighbourhood\u003c/th\u003e\n      \u003cth\u003elatitude\u003c/th\u003e\n      \u003cth\u003elongitude\u003c/th\u003e\n      \u003cth\u003eroom_type\u003c/th\u003e\n      \u003cth\u003eprice\u003c/th\u003e\n      \u003cth\u003eminimum_nights\u003c/th\u003e\n      \u003cth\u003enumber_of_reviews\u003c/th\u003e\n      \u003cth\u003elast_review\u003c/th\u003e\n      \u003cth\u003ereviews_per_month\u003c/th\u003e\n      \u003cth\u003ecalculated_host_listings_count\u003c/th\u003e\n      \u003cth\u003eavailability_365\u003c/th\u003e\n    \u003c/tr\u003e\n  \u003c/thead\u003e\n  \u003ctbody\u003e\n    \u003ctr\u003e\n      \u003cth\u003e0\u003c/th\u003e\n      \u003ctd\u003e2539\u003c/td\u003e\n      \u003ctd\u003eClean \u0026amp; quiet apt home by the park\u003c/td\u003e\n      \u003ctd\u003e2787\u003c/td\u003e\n      \u003ctd\u003eJohn\u003c/td\u003e\n      \u003ctd\u003eBrooklyn\u003c/td\u003e\n      \u003ctd\u003eKensington\u003c/td\u003e\n      \u003ctd\u003e40.64749\u003c/td\u003e\n      \u003ctd\u003e-73.97237\u003c/td\u003e\n      \u003ctd\u003ePrivate room\u003c/td\u003e\n      \u003ctd\u003e149\u003c/td\u003e\n      \u003ctd\u003e1\u003c/td\u003e\n      \u003ctd\u003e9\u003c/td\u003e\n      \u003ctd\u003e10/19/2018\u003c/td\u003e\n      \u003ctd\u003e0.21\u003c/td\u003e\n      \u003ctd\u003e6\u003c/td\u003e\n      \u003ctd\u003e365\u003c/td\u003e\n    \u003c/tr\u003e\n    \u003ctr\u003e\n      \u003cth\u003e1\u003c/th\u003e\n      \u003ctd\u003e2595\u003c/td\u003e\n      \u003ctd\u003eSkylit Midtown Castle\u003c/td\u003e\n      \u003ctd\u003e2845\u003c/td\u003e\n      \u003ctd\u003eJennifer\u003c/td\u003e\n      \u003ctd\u003eManhattan\u003c/td\u003e\n      \u003ctd\u003eMidtown\u003c/td\u003e\n      \u003ctd\u003e40.75362\u003c/td\u003e\n      \u003ctd\u003e-73.98377\u003c/td\u003e\n      \u003ctd\u003eEntire home/apt\u003c/td\u003e\n      \u003ctd\u003e225\u003c/td\u003e\n      \u003ctd\u003e1\u003c/td\u003e\n      \u003ctd\u003e45\u003c/td\u003e\n      \u003ctd\u003e5/21/2019\u003c/td\u003e\n      \u003ctd\u003e0.38\u003c/td\u003e\n      \u003ctd\u003e2\u003c/td\u003e\n      \u003ctd\u003e355\u003c/td\u003e\n    \u003c/tr\u003e\n    \u003ctr\u003e\n      \u003cth\u003e2\u003c/th\u003e\n      \u003ctd\u003e3647\u003c/td\u003e\n      \u003ctd\u003eTHE VILLAGE OF HARLEM....NEW YORK !\u003c/td\u003e\n      \u003ctd\u003e4632\u003c/td\u003e\n      \u003ctd\u003eElisabeth\u003c/td\u003e\n      \u003ctd\u003eManhattan\u003c/td\u003e\n      \u003ctd\u003eHarlem\u003c/td\u003e\n      \u003ctd\u003e40.80902\u003c/td\u003e\n      \u003ctd\u003e-73.94190\u003c/td\u003e\n      \u003ctd\u003ePrivate room\u003c/td\u003e\n      \u003ctd\u003e150\u003c/td\u003e\n      \u003ctd\u003e3\u003c/td\u003e\n      \u003ctd\u003e0\u003c/td\u003e\n      \u003ctd\u003e5/22/2019\u003c/td\u003e\n      \u003ctd\u003e0.00\u003c/td\u003e\n      \u003ctd\u003e1\u003c/td\u003e\n      \u003ctd\u003e365\u003c/td\u003e\n    \u003c/tr\u003e\n    \u003ctr\u003e\n      \u003cth\u003e3\u003c/th\u003e\n      \u003ctd\u003e3831\u003c/td\u003e\n      \u003ctd\u003eCozy Entire Floor of Brownstone\u003c/td\u003e\n      \u003ctd\u003e4869\u003c/td\u003e\n      \u003ctd\u003eLisaRoxanne\u003c/td\u003e\n      \u003ctd\u003eBrooklyn\u003c/td\u003e\n      \u003ctd\u003eClinton Hill\u003c/td\u003e\n      \u003ctd\u003e40.68514\u003c/td\u003e\n      \u003ctd\u003e-73.95976\u003c/td\u003e\n      \u003ctd\u003eEntire home/apt\u003c/td\u003e\n      \u003ctd\u003e89\u003c/td\u003e\n      \u003ctd\u003e1\u003c/td\u003e\n      \u003ctd\u003e270\u003c/td\u003e\n      \u003ctd\u003e7/5/2019\u003c/td\u003e\n      \u003ctd\u003e4.64\u003c/td\u003e\n      \u003ctd\u003e1\u003c/td\u003e\n      \u003ctd\u003e194\u003c/td\u003e\n    \u003c/tr\u003e\n    \u003ctr\u003e\n      \u003cth\u003e4\u003c/th\u003e\n      \u003ctd\u003e5022\u003c/td\u003e\n      \u003ctd\u003eEntire Apt: Spacious Studio/Loft by central park\u003c/td\u003e\n      \u003ctd\u003e7192\u003c/td\u003e\n      \u003ctd\u003eLaura\u003c/td\u003e\n      \u003ctd\u003eManhattan\u003c/td\u003e\n      \u003ctd\u003eEast Harlem\u003c/td\u003e\n      \u003ctd\u003e40.79851\u003c/td\u003e\n      \u003ctd\u003e-73.94399\u003c/td\u003e\n      \u003ctd\u003eEntire home/apt\u003c/td\u003e\n      \u003ctd\u003e80\u003c/td\u003e\n      \u003ctd\u003e10\u003c/td\u003e\n      \u003ctd\u003e9\u003c/td\u003e\n      \u003ctd\u003e11/19/2018\u003c/td\u003e\n      \u003ctd\u003e0.10\u003c/td\u003e\n      \u003ctd\u003e1\u003c/td\u003e\n      \u003ctd\u003e0\u003c/td\u003e\n    \u003c/tr\u003e\n  \u003c/tbody\u003e\n\u003c/table\u003e\n\u003c/div\u003e",
                        "text/plain": "     id                                              name  host_id  \\\n0  2539                Clean \u0026 quiet apt home by the park     2787   \n1  2595                             Skylit Midtown Castle     2845   \n2  3647               THE VILLAGE OF HARLEM....NEW YORK !     4632   \n3  3831                   Cozy Entire Floor of Brownstone     4869   \n4  5022  Entire Apt: Spacious Studio/Loft by central park     7192   \n\n     host_name neighbourhood_group neighbourhood  latitude  longitude  \\\n0         John            Brooklyn    Kensington  40.64749  -73.97237   \n1     Jennifer           Manhattan       Midtown  40.75362  -73.98377   \n2    Elisabeth           Manhattan        Harlem  40.80902  -73.94190   \n3  LisaRoxanne            Brooklyn  Clinton Hill  40.68514  -73.95976   \n4        Laura           Manhattan   East Harlem  40.79851  -73.94399   \n\n         room_type  price  minimum_nights  number_of_reviews last_review  \\\n0     Private room    149               1                  9  10/19/2018   \n1  Entire home/apt    225               1                 45   5/21/2019   \n2     Private room    150               3                  0   5/22/2019   \n3  Entire home/apt     89               1                270    7/5/2019   \n4  Entire home/apt     80              10                  9  11/19/2018   \n\n   reviews_per_month  calculated_host_listings_count  availability_365  \n0               0.21                               6               365  \n1               0.38                               2               355  \n2               0.00                               1               365  \n3               4.64                               1               194  \n4               0.10                               1                 0  "
                    },
                    "execution_count": 3,
                    "metadata": {},
                    "output_type": "execute_result"
                }
            ],
            "source": [
                "df_copy = df.copy()\n",
                "df.head()"
            ]
        },
        {
            "cell_type": "code",
            "execution_count": 4,
            "metadata": {},
            "outputs": [],
            "source": [
                "from sklearn.neighbors import KNeighborsRegressor\n",
                "from sklearn.metrics import mean_squared_error\n",
                "\n",
                "\n",
                "def knn_train_test(X, target, df):\n",
                "    \n",
                "    np.random.seed(1)\n",
                "        \n",
                "    # Randomize order of rows in data frame.\n",
                "    shuffled_index = np.random.permutation(df.index)\n",
                "    rand_df = df.reindex(shuffled_index)\n",
                "\n",
                "    # Divide number of rows in half and round.\n",
                "    train_rows = int(len(rand_df) / 2)\n",
                "    train_df = rand_df.iloc[0:train_rows]\n",
                "    test_df = rand_df.iloc[train_rows:]\n",
                "    \n",
                "    # Fit a knn model and make predictions\n",
                "    knn = KNeighborsRegressor()\n",
                "    knn.fit(train_df[[X]], train_df[target])\n",
                "    predictions = knn.predict(test_df[[X]])\n",
                "    \n",
                "    # Calculate the mse and rmse\n",
                "    mse = mean_squared_error(test_df[target], predictions)\n",
                "    rmse = np.sqrt(mse)\n",
                "    \n",
                "    return rmse"
            ]
        },
        {
            "cell_type": "code",
            "execution_count": 5,
            "metadata": {},
            "outputs": [],
            "source": [
                "df = df.drop(['room_type', 'calculated_host_listings_count', 'host_name', 'host_id', 'name', 'id' , 'neighbourhood', 'neighbourhood_group', 'latitude', 'longitude', 'last_review'], axis = 1)"
            ]
        },
        {
            "cell_type": "code",
            "execution_count": 6,
            "metadata": {},
            "outputs": [
                {
                    "name": "stderr",
                    "output_type": "stream",
                    "text": "/usr/lib/python3.9/site-packages/sklearn/base.py:441: UserWarning: X does not have valid feature names, but KNeighborsRegressor was fitted with feature names\n  warnings.warn(\n/usr/lib/python3.9/site-packages/sklearn/base.py:441: UserWarning: X does not have valid feature names, but KNeighborsRegressor was fitted with feature names\n  warnings.warn(\n/usr/lib/python3.9/site-packages/sklearn/base.py:441: UserWarning: X does not have valid feature names, but KNeighborsRegressor was fitted with feature names\n  warnings.warn(\n/usr/lib/python3.9/site-packages/sklearn/base.py:441: UserWarning: X does not have valid feature names, but KNeighborsRegressor was fitted with feature names\n  warnings.warn(\n"
                },
                {
                    "data": {
                        "text/plain": "reviews_per_month    254.406857\nminimum_nights       268.789641\navailability_365     313.782051\nnumber_of_reviews    695.737448\ndtype: float64"
                    },
                    "execution_count": 6,
                    "metadata": {},
                    "output_type": "execute_result"
                }
            ],
            "source": [
                "uni_rmse = {}\n",
                "\n",
                "for i in df:\n",
                "    if i != 'price':\n",
                "        uni_rmse[i] = knn_train_test(i, 'price', df)\n",
                "        \n",
                "# Create a Series object from the dictionary so we can easily view the results, sort, etc.\n",
                "\n",
                "uni_rmse = pd.Series(uni_rmse)\n",
                "uni_rmse.sort_values()"
            ]
        },
        {
            "cell_type": "code",
            "execution_count": 7,
            "metadata": {},
            "outputs": [],
            "source": [
                "def knn_train_test(X, target, df):\n",
                "    \n",
                "    np.random.seed(1)\n",
                "        \n",
                "    # Randomize order of rows in data frame.\n",
                "    shuffled_index = np.random.permutation(df.index)\n",
                "    rand_df = df.reindex(shuffled_index)\n",
                "\n",
                "    # Divide number of rows in half and round.\n",
                "    train_rows = int(len(rand_df) / 2)\n",
                "    train_df = rand_df.iloc[0:train_rows]\n",
                "    test_df = rand_df.iloc[train_rows:]\n",
                "    \n",
                "    # Fit a knn model and make predictions\n",
                "    knn = KNeighborsRegressor()\n",
                "    knn.fit(train_df[X], train_df[target])\n",
                "    predictions = knn.predict(test_df[X])\n",
                "    \n",
                "    # Calculate the mse and rmse\n",
                "    mse = mean_squared_error(test_df[target], predictions)\n",
                "    rmse = np.sqrt(mse)\n",
                "    \n",
                "    return rmse\n",
                "    "
            ]
        },
        {
            "cell_type": "code",
            "execution_count": 8,
            "metadata": {},
            "outputs": [
                {
                    "name": "stderr",
                    "output_type": "stream",
                    "text": "/usr/lib/python3.9/site-packages/sklearn/base.py:441: UserWarning: X does not have valid feature names, but KNeighborsRegressor was fitted with feature names\n  warnings.warn(\n/usr/lib/python3.9/site-packages/sklearn/base.py:441: UserWarning: X does not have valid feature names, but KNeighborsRegressor was fitted with feature names\n  warnings.warn(\n/usr/lib/python3.9/site-packages/sklearn/base.py:441: UserWarning: X does not have valid feature names, but KNeighborsRegressor was fitted with feature names\n  warnings.warn(\n"
                },
                {
                    "data": {
                        "text/plain": "{'two values': 266.4890810718093,\n 'three values': 267.24630656391673,\n 'four values': 267.24630656391673}"
                    },
                    "execution_count": 8,
                    "metadata": {},
                    "output_type": "execute_result"
                }
            ],
            "source": [
                "k_rmse_multi_results = {}\n",
                "\n",
                "\n",
                "two_values = ['reviews_per_month', 'minimum_nights']\n",
                "rmse_val = knn_train_test(two_values, 'price', df)\n",
                "k_rmse_multi_results[\"two values\"] = rmse_val\n",
                "\n",
                "three_values = ['reviews_per_month', 'minimum_nights', 'availability_365']\n",
                "rmse_val = knn_train_test(three_values, 'price', df)\n",
                "k_rmse_multi_results[\"three values\"] = rmse_val\n",
                "\n",
                "four_values = ['reviews_per_month', 'minimum_nights', 'availability_365', 'number_of_reviews']\n",
                "rmse_val = knn_train_test(three_values, 'price', df)\n",
                "k_rmse_multi_results[\"four values\"] = rmse_val\n",
                "\n",
                "k_rmse_multi_results"
            ]
        }
    ]
}
